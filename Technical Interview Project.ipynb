{
 "cells": [
  {
   "cell_type": "markdown",
   "metadata": {},
   "source": [
    "# Question 1\n",
    "\n",
    "Given two strings s and t, determine whether some anagram of t is a substring of s. For example: if s = \"udacity\" and t = \"ad\", then the function returns True. Your function definition should look like: question1(s, t) and return a boolean True or False."
   ]
  },
  {
   "cell_type": "code",
   "execution_count": 28,
   "metadata": {
    "collapsed": false
   },
   "outputs": [
    {
     "name": "stdout",
     "output_type": "stream",
     "text": [
      "False\n",
      "True\n",
      "False\n",
      "False\n"
     ]
    }
   ],
   "source": [
    "def question1(s, t):\n",
    "    if s==None or t==None or not isinstance(s, str) or not isinstance(t, str):\n",
    "        return False\n",
    "    \n",
    "    sL = list(s)\n",
    "    tL = list(t)\n",
    "    sD = {}\n",
    "    tD = {}\n",
    "    for lett in sL:\n",
    "        sD.setdefault(lett, 0)\n",
    "        sD[lett] += 1\n",
    "    \n",
    "    for lett in tL:\n",
    "        tD.setdefault(lett, 0)\n",
    "        tD[lett] += 1\n",
    "    \n",
    "    sL = set(sL)\n",
    "    tL = set(tL)\n",
    "    \n",
    "    for l, v in tD.items():\n",
    "        if l not in sL:\n",
    "            return False\n",
    "        if v>sD[l]:\n",
    "            return False\n",
    "    \n",
    "    return True\n",
    "\n",
    "print question1('uddacity', 'uddd')\n",
    "# False\n",
    "print question1('udacity', 'ud')\n",
    "# True\n",
    "print question1(None, 'ud')\n",
    "# False\n",
    "print question1(1, 'ud')\n",
    "# False"
   ]
  },
  {
   "cell_type": "markdown",
   "metadata": {},
   "source": [
    "First I handle any edge cases, such as inputs like 'None' or non-strings, returning False for those instances.  Then, I use dictionaries to store the character counts of each letter in the words.  I chose this data structure because it has quick lookups.  Last, I check to make sure there are enough letters in string 's' for the counts of each letter in 't' such that t is an anagram of a substring of 's'.  I converted the character lists to sets, just in case the character lists are long.  This should help time efficiency somewhat.  The space complexity is O(len(s) + len(t)) (both space and time complexity are the same for worst, best, and average cases) since we are allocating new lists for both of the strings, and the time complexity is O(len(s) + len(t)) since we are going through each character of both strings."
   ]
  },
  {
   "cell_type": "markdown",
   "metadata": {},
   "source": [
    "# Question 2\n",
    "Given a string a, find the longest palindromic substring contained in a. Your function definition should look like question2(a), and return a string."
   ]
  },
  {
   "cell_type": "code",
   "execution_count": 29,
   "metadata": {
    "collapsed": false
   },
   "outputs": [
    {
     "name": "stdout",
     "output_type": "stream",
     "text": [
      "acbbca\n",
      "No palindromes found.\n",
      "Not a string.\n",
      "Not a string.\n"
     ]
    }
   ],
   "source": [
    "def question2(s):\n",
    "    if s==None or not isinstance(s, str):\n",
    "        return TypeError('Not a string.')\n",
    "    \n",
    "    sL = list(s)\n",
    "    sD = {}\n",
    "    for lett in sL:\n",
    "        sD.setdefault(lett, 0)\n",
    "        sD[lett] += 1\n",
    "    \n",
    "    pD = {}\n",
    "    pDlen = 0\n",
    "    for k, v in sD.items():\n",
    "        if v>1:\n",
    "            pD[k] = v - v%2\n",
    "            pDlen += v - v%2\n",
    "    \n",
    "    if pDlen == 0:\n",
    "        return 'No palindromes found.'\n",
    "    \n",
    "    pal = ['']*pDlen\n",
    "    pCnt = 0\n",
    "    for k, v in pD.items():\n",
    "        for i in range(v/2):\n",
    "            pal[pCnt] = k\n",
    "            pal[-pCnt -1] = k\n",
    "            pCnt += 1\n",
    "    \n",
    "    return ''.join(pal)\n",
    "\n",
    "print question2('aabbccdc')\n",
    "# acbbca\n",
    "print question2('abcd')\n",
    "# No palindromes found.\n",
    "print question2(None)\n",
    "# Not a string.\n",
    "print question2(1)\n",
    "# Not a string."
   ]
  },
  {
   "cell_type": "markdown",
   "metadata": {},
   "source": [
    "First I check to make sure the argument is actually a string.  Then, I break the string into a list, counting the frequency of each word and storing this in a dictionary with the letter as the key.  This allows us to next find letters that occur at least twice, storing the letter and number of times it appears (as a multiple of 2) in another dictionary.  If there are no letters that occur at least twice, we return 'No palindromes found.'.  Then, we use the palindrome dictionary to make our palindrome.  Finally, we join the list togther into a string and return it.\n",
    "\n",
    "It is space complexity O(len(s)) since we are creating new lists and dictionaries.  Time complexity is also O(len(s)) since we go through each character explicity.  The best, worst, and average cases are all the same since we must always make a new list and run through it."
   ]
  },
  {
   "cell_type": "markdown",
   "metadata": {},
   "source": [
    "# Question 3\n",
    "Given an undirected graph G, find the minimum spanning tree within G. A minimum spanning tree connects all vertices in a graph with the smallest possible total weight of edges. Your function should take in and return an adjacency list structured like this:\n",
    "\n",
    "{'A': [('B', 2)],\n",
    " 'B': [('A', 2), ('C', 5)], \n",
    " 'C': [('B', 5)]}\n",
    "Vertices are represented as unique strings. The function definition should be question3(G)"
   ]
  },
  {
   "cell_type": "code",
   "execution_count": null,
   "metadata": {
    "collapsed": true
   },
   "outputs": [],
   "source": [
    "def question3(g):\n",
    "    "
   ]
  },
  {
   "cell_type": "markdown",
   "metadata": {},
   "source": [
    "I used a breadth-first search "
   ]
  },
  {
   "cell_type": "markdown",
   "metadata": {},
   "source": [
    "# Question 4\n",
    "Find the least common ancestor between two nodes on a binary search tree. The least common ancestor is the farthest node from the root that is an ancestor of both nodes. For example, the root is a common ancestor of all nodes on the tree, but if both nodes are descendents of the root's left child, then that left child might be the lowest common ancestor. You can assume that both nodes are in the tree, and the tree itself adheres to all BST properties. The function definition should look like question4(T, r, n1, n2), where T is the tree represented as a matrix, where the index of the list is equal to the integer stored in that node and a 1 represents a child node, r is a non-negative integer representing the root, and n1 and n2 are non-negative integers representing the two nodes in no particular order. For example, one test case might be\n",
    "\n",
    "question4([[0, 1, 0, 0, 0],\n",
    "           [0, 0, 0, 0, 0],\n",
    "           [0, 0, 0, 0, 0],\n",
    "           [1, 0, 0, 0, 1],\n",
    "           [0, 0, 0, 0, 0]],\n",
    "          3,\n",
    "          1,\n",
    "          4)\n",
    "and the answer would be 3."
   ]
  },
  {
   "cell_type": "markdown",
   "metadata": {},
   "source": [
    "# Question 5\n",
    "Find the element in a singly linked list that's m elements from the end. For example, if a linked list has 5 elements, the 3rd element from the end is the 3rd element. The function definition should look like question5(ll, m), where ll is the first node of a linked list and m is the \"mth number from the end\". You should copy/paste the Node class below to use as a representation of a node in the linked list. Return the value of the node at that position.\n",
    "\n",
    "class Node(object):\n",
    "  def __init__(self, data):\n",
    "    self.data = data\n",
    "    self.next = None"
   ]
  },
  {
   "cell_type": "code",
   "execution_count": null,
   "metadata": {
    "collapsed": true
   },
   "outputs": [],
   "source": []
  }
 ],
 "metadata": {
  "kernelspec": {
   "display_name": "Python 2",
   "language": "python",
   "name": "python2"
  },
  "language_info": {
   "codemirror_mode": {
    "name": "ipython",
    "version": 2
   },
   "file_extension": ".py",
   "mimetype": "text/x-python",
   "name": "python",
   "nbconvert_exporter": "python",
   "pygments_lexer": "ipython2",
   "version": "2.7.12"
  }
 },
 "nbformat": 4,
 "nbformat_minor": 0
}
