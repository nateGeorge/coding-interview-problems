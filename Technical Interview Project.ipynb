{
 "cells": [
  {
   "cell_type": "markdown",
   "metadata": {},
   "source": [
    "# Question 1\n",
    "\n",
    "Given two strings s and t, determine whether some anagram of t is a substring of s. For example: if s = \"udacity\" and t = \"ad\", then the function returns True. Your function definition should look like: question1(s, t) and return a boolean True or False."
   ]
  },
  {
   "cell_type": "code",
   "execution_count": 3,
   "metadata": {
    "collapsed": false
   },
   "outputs": [
    {
     "name": "stdout",
     "output_type": "stream",
     "text": [
      "False\n",
      "True\n",
      "False\n",
      "False\n"
     ]
    }
   ],
   "source": [
    "def question1(s, t):\n",
    "    if s is None or t is None or not isinstance(s, str) \\\n",
    "      or not isinstance(t, str):\n",
    "        return False\n",
    "\n",
    "    sL = list(s)\n",
    "    tL = list(t)\n",
    "    sD = {}\n",
    "    tD = {}\n",
    "    for lett in sL:\n",
    "        sD.setdefault(lett, 0)\n",
    "        sD[lett] += 1\n",
    "\n",
    "    for lett in tL:\n",
    "        tD.setdefault(lett, 0)\n",
    "        tD[lett] += 1\n",
    "\n",
    "    sL = set(sL)\n",
    "    tL = set(tL)\n",
    "    letts = []\n",
    "\n",
    "    for l, v in tD.items():\n",
    "        if l not in sL:\n",
    "            return False\n",
    "        else:\n",
    "            letts.extend([l]*sD[l])\n",
    "        if v > sD[l]:\n",
    "            return False\n",
    "\n",
    "    if ''.join(letts) in t:\n",
    "        return True\n",
    "\n",
    "    return False\n",
    "\n",
    "print question1('uddacity', 'uddd')\n",
    "# False\n",
    "print question1('udacity', 'ud')\n",
    "# True\n",
    "print question1(None, 'ud')\n",
    "# False\n",
    "print question1(1, 'ud')\n",
    "# False"
   ]
  },
  {
   "cell_type": "markdown",
   "metadata": {},
   "source": [
    "First I handle any edge cases, such as inputs like 'None' or non-strings, returning False for those instances.  Then, I use dictionaries to store the character counts of each letter in the words.  I chose this data structure because it has quick lookups.  Last, I check to make sure there are enough letters in string 's' for the counts of each letter in 't' such that t is an anagram of a substring of 's'.  I converted the character lists to sets, just in case the character lists are long.  This should help time efficiency somewhat.  The space complexity is O(len(s) + len(t)) (both space and time complexity are the same for worst, best, and average cases) since we are allocating new lists for both of the strings, and the time complexity is O(len(s) + len(t)) since we are going through each character of both strings."
   ]
  },
  {
   "cell_type": "markdown",
   "metadata": {},
   "source": [
    "# Question 2\n",
    "Given a string a, find the longest palindromic substring contained in a. Your function definition should look like question2(a), and return a string."
   ]
  },
  {
   "cell_type": "code",
   "execution_count": 5,
   "metadata": {
    "collapsed": false
   },
   "outputs": [
    {
     "name": "stdout",
     "output_type": "stream",
     "text": [
      "acbbca\n",
      "acbca\n",
      "No palindromes found.\n",
      "Not a string.\n",
      "Not a string.\n"
     ]
    }
   ],
   "source": [
    "def question2(s):\n",
    "    import re\n",
    "    import string\n",
    "    if s is None or not isinstance(s, str):\n",
    "        return TypeError('Not a string.')\n",
    "    \n",
    "    s = s.lower()\n",
    "    s = re.sub('\\s', '', s)\n",
    "    s = s.translate(string.maketrans(\"\",\"\"), string.punctuation)\n",
    "    \n",
    "    pal = ''\n",
    "    for i in range(len(s)):\n",
    "        for j in range(i):\n",
    "            substr = s[j:i+1]\n",
    "            if substr == substr[::-1]:\n",
    "                if len(substr) > len(pal):\n",
    "                    pal = substr\n",
    "\n",
    "    if len(pal) == 0:\n",
    "        return 'No palindromes found.'\n",
    "    \n",
    "    return pal\n",
    "\n",
    "print question2('acbbcacdc')\n",
    "# acbbca\n",
    "print question2('qqaacbca')\n",
    "# acbca\n",
    "print question2('abcd')\n",
    "# No palindromes found.\n",
    "print question2(None)\n",
    "# Not a string.\n",
    "print question2(1)\n",
    "# Not a string."
   ]
  },
  {
   "cell_type": "markdown",
   "metadata": {},
   "source": [
    "First I check to make sure the argument is actually a string.  Then, I break the string into a list, counting the frequency of each word and storing this in a dictionary with the letter as the key.  This allows us to next find letters that occur at least twice, storing the letter and number of times it appears (as a multiple of 2) in another dictionary.  If there are no letters that occur at least twice, we return 'No palindromes found.'.  Then, we use the palindrome dictionary to make our palindrome.  Finally, we join the list togther into a string and return it.\n",
    "\n",
    "It is space complexity O(len(s)) since we are creating new lists and dictionaries.  Time complexity is also O(len(s)) since we go through each character explicity.  The best, worst, and average cases are all the same since we must always make a new list and run through it."
   ]
  },
  {
   "cell_type": "markdown",
   "metadata": {},
   "source": [
    "# Question 3\n",
    "Given an undirected graph G, find the minimum spanning tree within G. A minimum spanning tree connects all vertices in a graph with the smallest possible total weight of edges. Your function should take in and return an adjacency list structured like this:\n",
    "\n",
    "{'A': [('B', 2)],\n",
    " 'B': [('A', 2), ('C', 5)], \n",
    " 'C': [('B', 5)]}\n",
    "Vertices are represented as unique strings. The function definition should be question3(G)"
   ]
  },
  {
   "cell_type": "code",
   "execution_count": 17,
   "metadata": {
    "collapsed": false
   },
   "outputs": [
    {
     "name": "stdout",
     "output_type": "stream",
     "text": [
      "{'A': [('B', 1)], 'C': [('B', 2)], 'B': [('A', 1), ('C', 2)]}\n",
      "Input is not a graph.\n",
      "Input is not a graph.\n"
     ]
    }
   ],
   "source": [
    "def question3(G):\n",
    "    if not isinstance(G, Graph):\n",
    "        return 'Input is not a graph.'\n",
    "\n",
    "    return G.find_min_span()\n",
    "\n",
    "\n",
    "class Node(object):\n",
    "    def __init__(self, value):\n",
    "        self.value = value\n",
    "        self.edges = []\n",
    "\n",
    "\n",
    "class Edge(object):\n",
    "    def __init__(self, value, node_from, node_to):\n",
    "        self.value = value\n",
    "        self.node_from = node_from\n",
    "        self.node_to = node_to\n",
    "\n",
    "\n",
    "class Graph(object):\n",
    "    def __init__(self, nodes=[], edges=[]):\n",
    "        self.nodes = nodes\n",
    "        self.edges = edges\n",
    "\n",
    "    def insert_node(self, new_node_val):\n",
    "        new_node = Node(new_node_val)\n",
    "        self.nodes.append(new_node)\n",
    "\n",
    "    def insert_edge(self, new_edge_val, node_from_val, node_to_val):\n",
    "        from_found = None\n",
    "        to_found = None\n",
    "        for node in self.nodes:\n",
    "            if node_from_val == node.value:\n",
    "                from_found = node\n",
    "            if node_to_val == node.value:\n",
    "                to_found = node\n",
    "        if from_found is None:\n",
    "            from_found = Node(node_from_val)\n",
    "            self.nodes.append(from_found)\n",
    "        if to_found is None:\n",
    "            to_found = Node(node_to_val)\n",
    "            self.nodes.append(to_found)\n",
    "        new_edge = Edge(new_edge_val, from_found, to_found)\n",
    "        from_found.edges.append(new_edge)\n",
    "        to_found.edges.append(new_edge)\n",
    "        self.edges.append(new_edge)\n",
    "\n",
    "    def find_min_span(self):\n",
    "        srtEdges = sorted(self.edges, key=lambda x: x.value)\n",
    "        eDict = {}\n",
    "        visited = []\n",
    "        while len(srtEdges) > 0:\n",
    "            e = srtEdges.pop(0)\n",
    "            if e.node_from.value not in visited or e.node_to.value not in visited:\n",
    "                eDict.setdefault(e.node_from.value, []).append((e.node_to.value, e.value))\n",
    "                visited.append(e.node_from.value)\n",
    "                visited.append(e.node_to.value)\n",
    "\n",
    "        for ed in eDict.keys():\n",
    "            to_nodes = [i for i, j in eDict[ed]]\n",
    "            for n in to_nodes:\n",
    "                if n in eDict.keys():\n",
    "                    to_nodes2 = [i for i, j in eDict[n]]\n",
    "                    if ed not in to_nodes2:\n",
    "                        for i, j in eDict[ed]:\n",
    "                            if i == n:\n",
    "                                val = j\n",
    "                        eDict[n].append((ed, j))\n",
    "                else:\n",
    "                    for i, j in eDict[ed]:\n",
    "                            if i == n:\n",
    "                                val = j\n",
    "                    eDict[n] = [(ed, val)]\n",
    "            \n",
    "            eDict[ed] = sorted(eDict[ed], key=lambda x: x[0])\n",
    "\n",
    "        return eDict\n",
    "\n",
    "\n",
    "g = Graph()\n",
    "g.insert_edge(1, 'A', 'B')\n",
    "g.insert_edge(2, 'B', 'C')\n",
    "g.insert_edge(3, 'C', 'B')\n",
    "g.insert_edge(4, 'C', 'A')\n",
    "print question3(g)\n",
    "# {'A': [('B', 1)], 'B': [('A', 1), ('C', 2)], 'C': [('B', 2)]}\n",
    "print question3(None)\n",
    "# Input is not a graph.\n",
    "print question3('teehee')\n",
    "# Input is not a graph."
   ]
  },
  {
   "cell_type": "markdown",
   "metadata": {},
   "source": [
    "I sorted the edges by weight, then treated the sorted list as a queue or stack, popping off the element with the lowest edge value while there are still edges left to examine.  If either the nodes from the edge haven't been visited, add that edge to the return dictionary.\n",
    "\n",
    "It runs in O(|E|) space on average, worst, and best case since we have to go through all the edges no matter what.  It runs in O(|E| + |V|) time, because we have to examine the nodes and edges each time through the while loop.  I have a feeling this may not always give the smallest total edge weight, but I haven't been able to come up with a case that proves that."
   ]
  },
  {
   "cell_type": "markdown",
   "metadata": {},
   "source": [
    "# Question 4\n",
    "Find the least common ancestor between two nodes on a binary search tree. The least common ancestor is the farthest node from the root that is an ancestor of both nodes. For example, the root is a common ancestor of all nodes on the tree, but if both nodes are descendents of the root's left child, then that left child might be the lowest common ancestor. You can assume that both nodes are in the tree, and the tree itself adheres to all BST properties. The function definition should look like question4(T, r, n1, n2), where T is the tree represented as a matrix, where the index of the list is equal to the integer stored in that node and a 1 represents a child node, r is a non-negative integer representing the root, and n1 and n2 are non-negative integers representing the two nodes in no particular order. For example, one test case might be\n",
    "\n",
    "question4([[0, 1, 0, 0, 0],\n",
    "           [0, 0, 0, 0, 0],\n",
    "           [0, 0, 0, 0, 0],\n",
    "           [1, 0, 0, 0, 1],\n",
    "           [0, 0, 0, 0, 0]],\n",
    "          3,\n",
    "          1,\n",
    "          4)\n",
    "and the answer would be 3."
   ]
  },
  {
   "cell_type": "code",
   "execution_count": 4,
   "metadata": {
    "collapsed": false
   },
   "outputs": [
    {
     "name": "stdout",
     "output_type": "stream",
     "text": [
      "3\n",
      "n1 and n2 must be integers\n",
      "Incorrect BST format.\n"
     ]
    }
   ],
   "source": [
    "def question4(T, r, n1, n2):\n",
    "    # T = tree (as matrix)\n",
    "    # index of the list is equal to the integer stored in that node and a 1 represents a child node\n",
    "    # r = root (integer)\n",
    "    # n1, n2 = two Node objects\n",
    "    if not isinstance(T, list):\n",
    "        return 'Incorrect BST format.'\n",
    "    if not isinstance(r, int):\n",
    "        return 'Root (r) should be an integer.'\n",
    "    if not isinstance(n1, int) or not isinstance(n2, int):\n",
    "        return 'n1 and n2 must be integers'\n",
    "    \n",
    "    nodes = [r]\n",
    "    nodeD = {}\n",
    "    paths = [None]*len(T[0])\n",
    "    n1D = None\n",
    "    n2D = None\n",
    "    while len(nodes)>1 or not (n1D and n2D):\n",
    "        startNode = nodes.pop(0)\n",
    "        chil = 0\n",
    "        for i in range(len(T[startNode])):\n",
    "            entry = T[startNode][i]\n",
    "            if entry==1:\n",
    "                nodes.append(i)\n",
    "                temp = startNode\n",
    "                nodeD.setdefault(i, []).append(temp)\n",
    "                if startNode in nodeD.keys():\n",
    "                    for j in nodeD[startNode]:\n",
    "                        nodeD[i].append(j)\n",
    "                \n",
    "                chil+=1\n",
    "            if entry==n1:\n",
    "                n1D = nodeD[i]\n",
    "            elif i==n2:\n",
    "                n2D = nodeD[i]\n",
    "            if chil==2:\n",
    "                break\n",
    "    \n",
    "    if n1D is None:\n",
    "        return 'No common ancestor.'\n",
    "    \n",
    "    for i in n1D:\n",
    "        if i in n2D:\n",
    "            return i\n",
    "    \n",
    "    return 'No common ancestor.'\n",
    "\n",
    "print question4([[0, 1, 0, 0, 0], [0, 0, 0, 0, 0], [0, 0, 0, 0, 0], [1, 0, 0, 0, 1], [0, 0, 0, 0, 0]], 3, 1, 4)\n",
    "# 3\n",
    "print question4([[0, 1, 0, 0, 0], [0, 0, 0, 0, 0], [0, 0, 0, 0, 0], [1, 0, 0, 0, 1], [0, 0, 0, 0, 0]], 3, 1, 'a')\n",
    "# n1 and n2 must be integers\n",
    "print question4(None, None, None, None)\n",
    "# Incorrect BST format."
   ]
  },
  {
   "cell_type": "markdown",
   "metadata": {},
   "source": [
    "I first check to make sure the variables are the right types.  Then, I make a queue out of the nodes, starting with the supplied root.  I go through each element in that node's row, and if the element is a one, I add that element to a dictionary with the current node as it's value in a list.  If the current node is in the dictionary, that path is appended to the elements path.  The element's value is added to the 'nodes' queue, and the process repeats until we're out of nodes or we have found the n1 and n2 nodes.  Then, the paths for n1D and n2D are checked to see if they have a common ancestor, stopping at the lowest point on the tree.\n",
    "\n",
    "Where n is number of elements in the tree, it runs in O(nlog(n)) time on average, because we have to traverse the tree and each element for each layer. Worst case is (On^2) because we would have to traverse the entire tree both depth-wise and on each level.  Best case would be O(n) if n1 and n2 are children of the root, because we go through each element of the root list once.  It runs in O(log(n)) space on average because we make a dictionary for each node until we find n1 and n2.  Worst case it runs O(n) space because we have to create a dictionary item for each node.  Best case it runs O(1) because we only need two dictionary items for n1 and n2 if they are children of the root."
   ]
  },
  {
   "cell_type": "markdown",
   "metadata": {},
   "source": [
    "# Question 5\n",
    "Find the element in a singly linked list that's m elements from the end. For example, if a linked list has 5 elements, the 3rd element from the end is the 3rd element. The function definition should look like question5(ll, m), where ll is the first node of a linked list and m is the \"mth number from the end\". You should copy/paste the Node class below to use as a representation of a node in the linked list. Return the value of the node at that position."
   ]
  },
  {
   "cell_type": "code",
   "execution_count": 18,
   "metadata": {
    "collapsed": false
   },
   "outputs": [
    {
     "name": "stdout",
     "output_type": "stream",
     "text": [
      "e\n",
      "m must be a positive integer\n",
      "None\n",
      "ll must be a \"Node\" object\n",
      "None\n"
     ]
    }
   ],
   "source": [
    "def question5(ll, m):\n",
    "    if not isinstance(ll, Node):\n",
    "        print 'll must be a \"Node\" object'\n",
    "        return\n",
    "    if not isinstance(m, int) or m < 1:\n",
    "        print 'm must be a positive integer'\n",
    "        return\n",
    "\n",
    "    cnt = 1  # counter for list length\n",
    "    ans = [ll.data]\n",
    "    while ll.next:\n",
    "        ll = ll.next\n",
    "        cnt += 1\n",
    "        if cnt > m:\n",
    "            ans.pop(0)\n",
    "\n",
    "        ans.extend(ll.data)\n",
    "\n",
    "    if cnt < m:\n",
    "        print 'm is not longer than linked list length'\n",
    "        return\n",
    "    \n",
    "    return ans[0]\n",
    "\n",
    "\n",
    "class Node(object):\n",
    "    def __init__(self, data):\n",
    "        self.data = data\n",
    "        self.next = None\n",
    "\n",
    "ll1 = Node('a')\n",
    "ll2 = Node('m')\n",
    "ll3 = Node('c')\n",
    "ll4 = Node('e')\n",
    "ll5 = Node('d')\n",
    "ll6 = Node('.')\n",
    "ll1.next = ll2\n",
    "ll2.next = ll3\n",
    "ll3.next = ll4\n",
    "ll4.next = ll5\n",
    "ll5.next = ll6\n",
    "\n",
    "\n",
    "print question5(ll1, 3)\n",
    "# 'e'\n",
    "print question5(ll1, 'a')\n",
    "# m must be a positive integer\n",
    "print question5(None, 3)\n",
    "# ll must be a \"Node\" object"
   ]
  },
  {
   "cell_type": "markdown",
   "metadata": {},
   "source": [
    "I first check to make sure the variables are the right types, then go through the list and store each value in a normal Python list.  I then return the item '-m' from the list, or m items from the end.\n",
    "\n",
    "If n is the length of the linkedlist, it runs in O(n) time and space average, best, and worst case, since we create a new list and loop through the whole linkedlist.  The space efficiency could be improved by only storing the length of the linkedlist as well as the linkedlist items in a list of length m."
   ]
  }
 ],
 "metadata": {
  "kernelspec": {
   "display_name": "Python 2",
   "language": "python",
   "name": "python2"
  },
  "language_info": {
   "codemirror_mode": {
    "name": "ipython",
    "version": 2
   },
   "file_extension": ".py",
   "mimetype": "text/x-python",
   "name": "python",
   "nbconvert_exporter": "python",
   "pygments_lexer": "ipython2",
   "version": "2.7.12"
  }
 },
 "nbformat": 4,
 "nbformat_minor": 0
}
